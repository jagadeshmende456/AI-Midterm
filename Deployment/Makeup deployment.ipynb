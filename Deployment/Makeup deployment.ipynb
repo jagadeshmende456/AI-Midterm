{
 "cells": [
  {
   "cell_type": "markdown",
   "id": "e632704f",
   "metadata": {},
   "source": [
    "# Creating requirements.txt file to install missing dependencies on Sagemaker container"
   ]
  },
  {
   "cell_type": "code",
   "execution_count": 30,
   "id": "62f16347",
   "metadata": {},
   "outputs": [
    {
     "name": "stdout",
     "output_type": "stream",
     "text": [
      "Overwriting requirements.txt\n"
     ]
    }
   ],
   "source": [
    "%%writefile requirements.txt\n",
    "joblib\n",
    "scipy\n",
    "numpy\n",
    "scikit-learn"
   ]
  },
  {
   "cell_type": "markdown",
   "id": "924d7c19",
   "metadata": {},
   "source": [
    "# Saving in Models and Ziping them"
   ]
  },
  {
   "cell_type": "code",
   "execution_count": 31,
   "id": "734ac0d2",
   "metadata": {},
   "outputs": [],
   "source": [
    "!mkdir -p opt/ml/model  \n",
    "!cp model.pkl opt/ml/model/model.pkl\n",
    "!cp tfidf_vectorizer.pkl opt/ml/model/tfidf_vectorizer.pkl"
   ]
  },
  {
   "cell_type": "markdown",
   "id": "81c5fa53",
   "metadata": {},
   "source": [
    "# Writing Inference Script\n",
    "This script process the input data on Sagemaker end and returns the predictions"
   ]
  },
  {
   "cell_type": "code",
   "execution_count": 32,
   "id": "403380fe",
   "metadata": {},
   "outputs": [
    {
     "name": "stdout",
     "output_type": "stream",
     "text": [
      "Overwriting inference.py\n"
     ]
    }
   ],
   "source": [
    "%%writefile inference.py\n",
    "import joblib\n",
    "import os\n",
    "import json\n",
    "from sklearn.feature_extraction.text import TfidfVectorizer\n",
    "import numpy as np\n",
    "import pickle\n",
    "import boto3\n",
    "\n",
    "\"\"\"\n",
    "Deserialize fitted model\n",
    "\"\"\"\n",
    "def model_fn(model_dir):\n",
    "    model = joblib.load(os.path.join(model_dir, \"model.pkl\"))\n",
    "    return model\n",
    "\n",
    "\"\"\"\n",
    "input_fn\n",
    "    request_body: The body of the request sent to the model.\n",
    "    request_content_type: (string) specifies the format/variable type of the request\n",
    "\"\"\"\n",
    "def input_fn(request_body, request_content_type):\n",
    "    if request_content_type == 'application/json':\n",
    "        input_data = json.loads(request_body)\n",
    "        return input_data\n",
    "    else:\n",
    "        raise ValueError(\"This model only supports application/json input\")\n",
    "\n",
    "\"\"\"\n",
    "predict_fn\n",
    "    input_data: returned data from input_fn above\n",
    "    model (sklearn model) returned model loaded from model_fn above\n",
    "\"\"\"\n",
    "def predict_fn(input_data, model):\n",
    "    # Process the input data if necessary\n",
    "    processed_data = process_input(input_data, model)\n",
    "    # Make predictions using the model\n",
    "    predictions = model.predict(processed_data)\n",
    "    return predictions\n",
    "\n",
    "def process_input(input_data, model):\n",
    "    # Process input data as needed before passing to the model for prediction\n",
    "    X = input_data['url']\n",
    "    vectorizer = joblib.load(os.path.join(\"opt/ml/model\", \"tfidf_vectorizer.pkl\"))\n",
    "    X_vect = vectorizer.transform(X)\n",
    "    return X_vect\n",
    "\n",
    "\"\"\"\n",
    "output_fn\n",
    "    prediction: the returned value from predict_fn above\n",
    "    content_type: the content type the endpoint expects to be returned. Ex: JSON, string\n",
    "\"\"\"\n",
    "def output_fn(prediction, content_type):\n",
    "    prediction_str = prediction[0]\n",
    "    response = {\"type\": prediction_str}\n",
    "    return json.dumps(response)\n"
   ]
  },
  {
   "cell_type": "code",
   "execution_count": 34,
   "id": "a47056f3",
   "metadata": {},
   "outputs": [
    {
     "name": "stdout",
     "output_type": "stream",
     "text": [
      "model.pkl\n",
      "inference.py\n",
      "tfidf_vectorizer.pkl\n",
      "requirements.txt\n",
      "opt/\n",
      "opt/ml/\n",
      "opt/ml/model/\n",
      "opt/ml/model/model.pkl\n",
      "opt/ml/model/tfidf_vectorizer.pkl\n"
     ]
    }
   ],
   "source": [
    "!tar -cvpzf model.tar.gz model.pkl inference.py tfidf_vectorizer.pkl requirements.txt opt"
   ]
  },
  {
   "cell_type": "markdown",
   "id": "e6150701",
   "metadata": {},
   "source": [
    "# Deployment\n",
    "Importing libraries"
   ]
  },
  {
   "cell_type": "code",
   "execution_count": 35,
   "id": "db8178ae",
   "metadata": {},
   "outputs": [],
   "source": [
    "import boto3\n",
    "import json\n",
    "import os\n",
    "import joblib\n",
    "import pickle\n",
    "import tarfile\n",
    "import sagemaker\n",
    "from sagemaker.estimator import Estimator\n",
    "import time\n",
    "from time import gmtime, strftime\n",
    "import subprocess"
   ]
  },
  {
   "cell_type": "markdown",
   "id": "e09918e7",
   "metadata": {},
   "source": [
    "# Setting up the boto 3"
   ]
  },
  {
   "cell_type": "code",
   "execution_count": 36,
   "id": "2d096d4f",
   "metadata": {},
   "outputs": [
    {
     "name": "stdout",
     "output_type": "stream",
     "text": [
      "us-east-1\n"
     ]
    }
   ],
   "source": [
    "#Setup\n",
    "client = boto3.client(service_name=\"sagemaker\")\n",
    "runtime = boto3.client(service_name=\"sagemaker-runtime\")\n",
    "boto_session = boto3.session.Session()\n",
    "s3 = boto_session.resource('s3')\n",
    "region = boto_session.region_name\n",
    "print(region)\n",
    "sagemaker_session = sagemaker.Session()\n",
    "role = \"arn:aws:iam::502575812615:role/LabRole\""
   ]
  },
  {
   "cell_type": "markdown",
   "id": "822e4bac",
   "metadata": {},
   "source": [
    "# Retrieving a SKLearn image uri"
   ]
  },
  {
   "cell_type": "code",
   "execution_count": 37,
   "id": "4daa2edc",
   "metadata": {},
   "outputs": [],
   "source": [
    "# retrieve sklearn image\n",
    "image_uri = sagemaker.image_uris.retrieve(\n",
    "    framework=\"sklearn\",\n",
    "    region=region,\n",
    "    version=\"1.2-1\",\n",
    "    py_version=\"py3\",\n",
    "    instance_type=\"ml.t2.medium\",\n",
    ")"
   ]
  },
  {
   "cell_type": "markdown",
   "id": "f96f5193",
   "metadata": {},
   "source": [
    "# Importing the previously zipped model from S3 Bucket(I have uploaded it manually)"
   ]
  },
  {
   "cell_type": "code",
   "execution_count": 38,
   "id": "280ee6bb",
   "metadata": {},
   "outputs": [
    {
     "name": "stdout",
     "output_type": "stream",
     "text": [
      "sagemaker-us-east-1-502575812615\n"
     ]
    }
   ],
   "source": [
    "#Bucket for model artifacts\n",
    "default_bucket = sagemaker_session.default_bucket()\n",
    "print(default_bucket)\n",
    "\n",
    "#Upload tar.gz to bucket\n",
    "model_artifacts = f\"s3://{default_bucket}/model.tar.gz\"\n",
    "response = s3.meta.client.upload_file('model.tar.gz', default_bucket, 'model.tar.gz')"
   ]
  },
  {
   "cell_type": "markdown",
   "id": "765a5432",
   "metadata": {},
   "source": [
    "# Creating model"
   ]
  },
  {
   "cell_type": "code",
   "execution_count": 39,
   "id": "15b1c73c",
   "metadata": {},
   "outputs": [
    {
     "name": "stdout",
     "output_type": "stream",
     "text": [
      "Model name: sklearn-test2024-05-01-18-14-01\n",
      "Model Arn: arn:aws:sagemaker:us-east-1:502575812615:model/sklearn-test2024-05-01-18-14-01\n"
     ]
    }
   ],
   "source": [
    "#Step 1: Model Creation\n",
    "model_name = \"sklearn-test\" + strftime(\"%Y-%m-%d-%H-%M-%S\", gmtime())\n",
    "print(\"Model name: \" + model_name)\n",
    "create_model_response = client.create_model(\n",
    "    ModelName=model_name,\n",
    "    Containers=[\n",
    "        {\n",
    "            \"Image\": image_uri,\n",
    "            \"Mode\": \"SingleModel\",\n",
    "            \"ModelDataUrl\": model_artifacts,\n",
    "            \"Environment\": {'SAGEMAKER_SUBMIT_DIRECTORY': model_artifacts,\n",
    "                           'SAGEMAKER_PROGRAM': 'inference.py'} \n",
    "        }\n",
    "    ],\n",
    "    ExecutionRoleArn=role,\n",
    ")\n",
    "print(\"Model Arn: \" + create_model_response[\"ModelArn\"])"
   ]
  },
  {
   "cell_type": "markdown",
   "id": "4c909404",
   "metadata": {},
   "source": [
    "# Configuring the Endpoint"
   ]
  },
  {
   "cell_type": "code",
   "execution_count": 40,
   "id": "f0f759a9",
   "metadata": {},
   "outputs": [
    {
     "name": "stdout",
     "output_type": "stream",
     "text": [
      "Endpoint Configuration Arn: arn:aws:sagemaker:us-east-1:502575812615:endpoint-config/sklearn-epc2024-05-01-18-14-03\n"
     ]
    }
   ],
   "source": [
    "#Step 2: EPC Creation\n",
    "sklearn_epc_name = \"sklearn-epc\" + strftime(\"%Y-%m-%d-%H-%M-%S\", gmtime())\n",
    "endpoint_config_response = client.create_endpoint_config(\n",
    "    EndpointConfigName=sklearn_epc_name,\n",
    "    ProductionVariants=[\n",
    "        {\n",
    "            \"VariantName\": \"sklearnvariant\",\n",
    "            \"ModelName\": model_name,\n",
    "            \"InstanceType\": \"ml.t2.medium\",\n",
    "            \"InitialInstanceCount\": 1\n",
    "        },\n",
    "    ],\n",
    ")\n",
    "print(\"Endpoint Configuration Arn: \" + endpoint_config_response[\"EndpointConfigArn\"])"
   ]
  },
  {
   "cell_type": "markdown",
   "id": "ddb1f905",
   "metadata": {},
   "source": [
    "Creating Endpoint on Sagemaker"
   ]
  },
  {
   "cell_type": "code",
   "execution_count": 41,
   "id": "da480245",
   "metadata": {},
   "outputs": [
    {
     "name": "stdout",
     "output_type": "stream",
     "text": [
      "Endpoint Arn: arn:aws:sagemaker:us-east-1:502575812615:endpoint/sklearn-local-ep2024-05-01-18-14-07\n"
     ]
    }
   ],
   "source": [
    "#Step 3: EP Creation\n",
    "endpoint_name = \"sklearn-local-ep\" + strftime(\"%Y-%m-%d-%H-%M-%S\", gmtime())\n",
    "create_endpoint_response = client.create_endpoint(\n",
    "    EndpointName=endpoint_name,\n",
    "    EndpointConfigName=sklearn_epc_name,\n",
    ")\n",
    "print(\"Endpoint Arn: \" + create_endpoint_response[\"EndpointArn\"])"
   ]
  },
  {
   "cell_type": "markdown",
   "id": "b2f80a74",
   "metadata": {},
   "source": [
    "# Monitoring code snippet of deployment"
   ]
  },
  {
   "cell_type": "code",
   "execution_count": 42,
   "id": "28b13966",
   "metadata": {},
   "outputs": [
    {
     "name": "stdout",
     "output_type": "stream",
     "text": [
      "Creating\n",
      "Creating\n",
      "Creating\n",
      "Creating\n",
      "Creating\n",
      "Creating\n",
      "Creating\n",
      "Creating\n",
      "Creating\n",
      "Creating\n",
      "Creating\n",
      "Creating\n",
      "Creating\n",
      "Creating\n",
      "Creating\n",
      "Creating\n",
      "Creating\n",
      "Creating\n",
      "Creating\n",
      "InService\n",
      "{'EndpointName': 'sklearn-local-ep2024-05-01-18-14-07', 'EndpointArn': 'arn:aws:sagemaker:us-east-1:502575812615:endpoint/sklearn-local-ep2024-05-01-18-14-07', 'EndpointConfigName': 'sklearn-epc2024-05-01-18-14-03', 'ProductionVariants': [{'VariantName': 'sklearnvariant', 'DeployedImages': [{'SpecifiedImage': '683313688378.dkr.ecr.us-east-1.amazonaws.com/sagemaker-scikit-learn:1.2-1-cpu-py3', 'ResolvedImage': '683313688378.dkr.ecr.us-east-1.amazonaws.com/sagemaker-scikit-learn@sha256:f2af579f989b682271f6f791aa44b6a755d08003d9c8f81be16e4a1e93141291', 'ResolutionTime': datetime.datetime(2024, 5, 1, 18, 14, 8, 23000, tzinfo=tzlocal())}], 'CurrentWeight': 1.0, 'DesiredWeight': 1.0, 'CurrentInstanceCount': 1, 'DesiredInstanceCount': 1}], 'EndpointStatus': 'InService', 'CreationTime': datetime.datetime(2024, 5, 1, 18, 14, 7, 337000, tzinfo=tzlocal()), 'LastModifiedTime': datetime.datetime(2024, 5, 1, 18, 18, 48, 354000, tzinfo=tzlocal()), 'ResponseMetadata': {'RequestId': 'cda1557a-5a95-4b42-a8cf-dc9300de3e54', 'HTTPStatusCode': 200, 'HTTPHeaders': {'x-amzn-requestid': 'cda1557a-5a95-4b42-a8cf-dc9300de3e54', 'content-type': 'application/x-amz-json-1.1', 'content-length': '767', 'date': 'Wed, 01 May 2024 18:18:55 GMT'}, 'RetryAttempts': 0}}\n"
     ]
    }
   ],
   "source": [
    "#Monitor creation\n",
    "describe_endpoint_response = client.describe_endpoint(EndpointName=endpoint_name)\n",
    "while describe_endpoint_response[\"EndpointStatus\"] == \"Creating\":\n",
    "    describe_endpoint_response = client.describe_endpoint(EndpointName=endpoint_name)\n",
    "    print(describe_endpoint_response[\"EndpointStatus\"])\n",
    "    time.sleep(15)\n",
    "print(describe_endpoint_response)"
   ]
  },
  {
   "cell_type": "markdown",
   "id": "11b4af25",
   "metadata": {},
   "source": [
    "# Testing the Endpoint is working or not?"
   ]
  },
  {
   "cell_type": "code",
   "execution_count": 43,
   "id": "26c540c5",
   "metadata": {},
   "outputs": [
    {
     "name": "stdout",
     "output_type": "stream",
     "text": [
      "{'type': 'defacement'}\n"
     ]
    }
   ],
   "source": [
    "import json\n",
    "import boto3\n",
    "\n",
    "# Initialize the SageMaker runtime client\n",
    "runtime = boto3.client('sagemaker-runtime')\n",
    "\n",
    "# Define your input data\n",
    "\"\"\"vanderbilt.rivals.com/viewcoach.asp?coach=2079&sport=1&year=2011\tbenign\n",
    "http://peluqueriadeautor.com/index.php?option=com_virtuemart&page=shop.browse&category_id=31&Itemid=70\tdefacement\n",
    "movies.yahoo.com/shop?d=hv&cf=info&id=1800340831\tbenign\n",
    "cyndislist.com/us/pa/counties\tbenign\n",
    "http://www.824555.com/app/member/SportOption.php?uid=guest&langx=gb\tmalware\n",
    "http://www.raci.it/component/user/reset.html\tdefacement\n",
    "https://docs.google.com/spreadsheet/viewform?formkey=dGg2Z1lCUHlSdjllTVNRUW50TFIzSkE6MQ\tphishing\n",
    "psychology.wikia.com/wiki/Phonemes\tbenign\n",
    "\"\"\"\n",
    "input_data = {\n",
    "    'url': [\"http://peluqueriadeautor.com/index.php?option=com_virtuemart&page=shop.browse&category_id=31&Itemid=70\"]\n",
    "}\n",
    "\n",
    "# Convert input data to JSON string\n",
    "payload = json.dumps(input_data)\n",
    "\n",
    "# Specify the endpoint name\n",
    "endpoint_name = 'sklearn-local-ep2024-05-01-18-14-07'\n",
    "\n",
    "# Call the endpoint\n",
    "response = runtime.invoke_endpoint(EndpointName=endpoint_name,\n",
    "                                   ContentType='application/json',\n",
    "                                   Body=payload)\n",
    "\n",
    "# Decode and print the response\n",
    "result = json.loads(response['Body'].read().decode())\n",
    "print(result)"
   ]
  },
  {
   "cell_type": "code",
   "execution_count": null,
   "id": "226170a2",
   "metadata": {},
   "outputs": [],
   "source": []
  }
 ],
 "metadata": {
  "kernelspec": {
   "display_name": "Python 3",
   "language": "python",
   "name": "python3"
  },
  "language_info": {
   "codemirror_mode": {
    "name": "ipython",
    "version": 3
   },
   "file_extension": ".py",
   "mimetype": "text/x-python",
   "name": "python",
   "nbconvert_exporter": "python",
   "pygments_lexer": "ipython3",
   "version": "3.11.5"
  }
 },
 "nbformat": 4,
 "nbformat_minor": 5
}
